{
  "nbformat": 4,
  "nbformat_minor": 0,
  "metadata": {
    "colab": {
      "provenance": []
    },
    "kernelspec": {
      "name": "python3",
      "display_name": "Python 3"
    },
    "language_info": {
      "name": "python"
    }
  },
  "cells": [
    {
      "cell_type": "code",
      "execution_count": 78,
      "metadata": {
        "id": "cQssoEkrrcjc"
      },
      "outputs": [],
      "source": [
        "#importing packages\n",
        "import pandas as pd\n",
        "import numpy as np\n",
        "import seaborn as sns\n",
        "import matplotlib.pyplot as plt\n"
      ]
    },
    {
      "cell_type": "code",
      "source": [
        "#Importing of dataset to dataframe. \n",
        "df = pd.read_csv(\"/content/iris.csv\")\n",
        "\n"
      ],
      "metadata": {
        "id": "sCPVxZYvt7Kg"
      },
      "execution_count": 79,
      "outputs": []
    },
    {
      "cell_type": "code",
      "source": [
        "#To see first 5 rows of the dataset\n",
        "df.head()\n",
        "#To know the data types of the variables.\n",
        "df.dtypes"
      ],
      "metadata": {
        "colab": {
          "base_uri": "https://localhost:8080/"
        },
        "id": "EOnCeQ7Yt_X3",
        "outputId": "ccc60afc-4df7-49ad-bf38-9736e677be06"
      },
      "execution_count": 80,
      "outputs": [
        {
          "output_type": "execute_result",
          "data": {
            "text/plain": [
              "sepal.length    float64\n",
              "sepal.width     float64\n",
              "petal.length    float64\n",
              "petal.width     float64\n",
              "variety          object\n",
              "dtype: object"
            ]
          },
          "metadata": {},
          "execution_count": 80
        }
      ]
    },
    {
      "cell_type": "code",
      "source": [
        "#Speceis is the output class,to know the count of each class we use value_counts()\n",
        "df['variety'].value_counts()"
      ],
      "metadata": {
        "colab": {
          "base_uri": "https://localhost:8080/"
        },
        "id": "kNOdLvxFuDKW",
        "outputId": "737d50e2-2730-4ecb-d6e3-b68252cc9261"
      },
      "execution_count": 81,
      "outputs": [
        {
          "output_type": "execute_result",
          "data": {
            "text/plain": [
              "Setosa        50\n",
              "Versicolor    50\n",
              "Virginica     50\n",
              "Name: variety, dtype: int64"
            ]
          },
          "metadata": {},
          "execution_count": 81
        }
      ]
    },
    {
      "cell_type": "code",
      "source": [
        "#Separating independant variable and dependent variable(\"Species\")\n",
        "X = df.drop(['variety'], axis=1)\n",
        "y = df['variety']\n",
        "print(X.head())\n",
        "\n",
        "\n"
      ],
      "metadata": {
        "colab": {
          "base_uri": "https://localhost:8080/"
        },
        "id": "NFfta5l5ugMU",
        "outputId": "4e2aaa5a-3420-4dff-fdb1-d1be56453919"
      },
      "execution_count": 82,
      "outputs": [
        {
          "output_type": "stream",
          "name": "stdout",
          "text": [
            "   sepal.length  sepal.width  petal.length  petal.width\n",
            "0           5.1          3.5           1.4          0.2\n",
            "1           4.9          3.0           1.4          0.2\n",
            "2           4.7          3.2           1.3          0.2\n",
            "3           4.6          3.1           1.5          0.2\n",
            "4           5.0          3.6           1.4          0.2\n"
          ]
        }
      ]
    },
    {
      "cell_type": "code",
      "source": [
        "print(y.head())"
      ],
      "metadata": {
        "colab": {
          "base_uri": "https://localhost:8080/"
        },
        "id": "587MWK4Nuq-n",
        "outputId": "38304d5c-3158-4133-b12c-02a813a4535e"
      },
      "execution_count": 83,
      "outputs": [
        {
          "output_type": "stream",
          "name": "stdout",
          "text": [
            "0    Setosa\n",
            "1    Setosa\n",
            "2    Setosa\n",
            "3    Setosa\n",
            "4    Setosa\n",
            "Name: variety, dtype: object\n"
          ]
        }
      ]
    },
    {
      "cell_type": "code",
      "source": [
        "\n",
        "print(X.shape)\n",
        "\n",
        "print(y.shape)"
      ],
      "metadata": {
        "colab": {
          "base_uri": "https://localhost:8080/"
        },
        "id": "M6TdVe04umgM",
        "outputId": "52a55e9b-cb8b-4bb1-dc36-f42c03ea2477"
      },
      "execution_count": 84,
      "outputs": [
        {
          "output_type": "stream",
          "name": "stdout",
          "text": [
            "(150, 4)\n",
            "(150,)\n"
          ]
        }
      ]
    },
    {
      "cell_type": "code",
      "source": [
        "# Splitting the dataset to Train and test\n",
        "from sklearn.model_selection import train_test_split\n",
        "X_train, X_test, y_train, y_test = train_test_split(X, y, test_size=0.3, random_state=0)"
      ],
      "metadata": {
        "id": "V0YDr4YEuzVR"
      },
      "execution_count": 85,
      "outputs": []
    },
    {
      "cell_type": "code",
      "source": [
        "#to know the shape of the train and test dataset.\n",
        "print(X_train.shape)\n",
        "print(y_train.shape)\n",
        "print(X_test.shape)\n",
        "print(y_test.shape)"
      ],
      "metadata": {
        "colab": {
          "base_uri": "https://localhost:8080/"
        },
        "id": "mDQ7xxxBu3MQ",
        "outputId": "25beb829-95d2-43e0-9984-e867ea73199c"
      },
      "execution_count": 86,
      "outputs": [
        {
          "output_type": "stream",
          "name": "stdout",
          "text": [
            "(105, 4)\n",
            "(105,)\n",
            "(45, 4)\n",
            "(45,)\n"
          ]
        }
      ]
    },
    {
      "cell_type": "code",
      "source": [
        "#We use Support Vector classifier as a classifier\n",
        "from sklearn.svm import SVC\n",
        "from sklearn.metrics import confusion_matrix"
      ],
      "metadata": {
        "id": "VZYiqyFUu7og"
      },
      "execution_count": 87,
      "outputs": []
    },
    {
      "cell_type": "code",
      "source": [
        "#training the classifier using X_Train and y_train \n",
        "clf = SVC(kernel = 'linear').fit(X_train,y_train)\n",
        "clf.predict(X_train)"
      ],
      "metadata": {
        "colab": {
          "base_uri": "https://localhost:8080/"
        },
        "id": "qNFMZyBpvA7-",
        "outputId": "6b6a7e11-1a0b-4e75-82b2-56611a62941b"
      },
      "execution_count": 88,
      "outputs": [
        {
          "output_type": "execute_result",
          "data": {
            "text/plain": [
              "array(['Versicolor', 'Virginica', 'Virginica', 'Virginica', 'Virginica',\n",
              "       'Versicolor', 'Virginica', 'Versicolor', 'Versicolor', 'Virginica',\n",
              "       'Virginica', 'Virginica', 'Virginica', 'Versicolor', 'Virginica',\n",
              "       'Versicolor', 'Setosa', 'Virginica', 'Versicolor', 'Versicolor',\n",
              "       'Versicolor', 'Versicolor', 'Virginica', 'Setosa', 'Setosa',\n",
              "       'Virginica', 'Versicolor', 'Setosa', 'Setosa', 'Versicolor',\n",
              "       'Setosa', 'Virginica', 'Versicolor', 'Setosa', 'Versicolor',\n",
              "       'Virginica', 'Versicolor', 'Setosa', 'Virginica', 'Virginica',\n",
              "       'Virginica', 'Virginica', 'Setosa', 'Setosa', 'Virginica',\n",
              "       'Virginica', 'Setosa', 'Virginica', 'Setosa', 'Virginica',\n",
              "       'Virginica', 'Setosa', 'Setosa', 'Virginica', 'Setosa', 'Setosa',\n",
              "       'Setosa', 'Versicolor', 'Virginica', 'Virginica', 'Setosa',\n",
              "       'Setosa', 'Setosa', 'Versicolor', 'Versicolor', 'Setosa', 'Setosa',\n",
              "       'Versicolor', 'Setosa', 'Virginica', 'Versicolor', 'Virginica',\n",
              "       'Versicolor', 'Setosa', 'Virginica', 'Setosa', 'Virginica',\n",
              "       'Setosa', 'Setosa', 'Virginica', 'Setosa', 'Virginica',\n",
              "       'Versicolor', 'Versicolor', 'Versicolor', 'Virginica', 'Virginica',\n",
              "       'Virginica', 'Versicolor', 'Setosa', 'Versicolor', 'Virginica',\n",
              "       'Virginica', 'Setosa', 'Versicolor', 'Versicolor', 'Virginica',\n",
              "       'Versicolor', 'Setosa', 'Setosa', 'Setosa', 'Virginica',\n",
              "       'Versicolor', 'Virginica', 'Setosa'], dtype=object)"
            ]
          },
          "metadata": {},
          "execution_count": 88
        }
      ]
    },
    {
      "cell_type": "code",
      "source": [
        "#Testing the model using X_test and storing the output in y_pred\n",
        "y_pred = clf.predict(X_test)"
      ],
      "metadata": {
        "id": "GRRiElLWvIT5"
      },
      "execution_count": 89,
      "outputs": []
    },
    {
      "cell_type": "code",
      "source": [
        "# Creating  a confusion matrix,which compares the y_test and y_pred\n",
        "cm = confusion_matrix(y_test, y_pred)"
      ],
      "metadata": {
        "id": "aXRBH8KuvK2X"
      },
      "execution_count": 90,
      "outputs": []
    },
    {
      "cell_type": "code",
      "source": [
        "# Creating a dataframe for a array-formatted Confusion matrix,so it will be easy for plotting.\n",
        "cm_df = pd.DataFrame(cm,\n",
        "                     index = ['SETOSA','VERSICOLR','VIRGINICA'], \n",
        "                     columns = ['SETOSA','VERSICOLR','VIRGINICA'])"
      ],
      "metadata": {
        "id": "rrkByd_NvPhP"
      },
      "execution_count": 91,
      "outputs": []
    },
    {
      "cell_type": "code",
      "source": [
        "#Plotting the confusion matrix\n",
        "#Calculate the Confusion Matrix by the actual and predicted values.\n",
        "plt.figure(figsize=(5,4))\n",
        "sns.heatmap(cm_df, annot=True)\n",
        "plt.title('Confusion Matrix')\n",
        "plt.ylabel('Actal Values')\n",
        "plt.xlabel('Predicted Values')\n",
        "plt.show()\n",
        "\n"
      ],
      "metadata": {
        "colab": {
          "base_uri": "https://localhost:8080/",
          "height": 295
        },
        "id": "VaLEuWibvSMD",
        "outputId": "33897c30-25d3-4c3a-cdf3-2ff6b571efa0"
      },
      "execution_count": 92,
      "outputs": [
        {
          "output_type": "display_data",
          "data": {
            "text/plain": [
              "<Figure size 360x288 with 2 Axes>"
            ],
            "image/png": "[encoded data removed]"
          },
          "metadata": {
            "needs_background": "light"
          }
        }
      ]
    },
    {
      "cell_type": "code",
      "source": [
        "from sklearn.metrics import classification_report\n",
        "print(classification_report(y_test, y_pred))"
      ],
      "metadata": {
        "colab": {
          "base_uri": "https://localhost:8080/"
        },
        "id": "b-DG8JHj1ajQ",
        "outputId": "3c733312-f9c7-4467-f576-fa776fe3fd1c"
      },
      "execution_count": 93,
      "outputs": [
        {
          "output_type": "stream",
          "name": "stdout",
          "text": [
            "              precision    recall  f1-score   support\n",
            "\n",
            "      Setosa       1.00      1.00      1.00        16\n",
            "  Versicolor       1.00      0.94      0.97        18\n",
            "   Virginica       0.92      1.00      0.96        11\n",
            "\n",
            "    accuracy                           0.98        45\n",
            "   macro avg       0.97      0.98      0.98        45\n",
            "weighted avg       0.98      0.98      0.98        45\n",
            "\n"
          ]
        }
      ]
    },
    {
      "cell_type": "code",
      "source": [
        "#how to calculate each metric individually using sklearn\n",
        "from sklearn.metrics import precision_score, recall_score, f1_score, accuracy_score\n",
        "print('Accuracy: ',accuracy_score(y_test, y_pred))\n",
        "print('Precision:',precision_score(y_test, y_pred, average='macro'))\n",
        "print('Recall:   ',recall_score(y_test, y_pred, average='macro'))\n",
        "print('F1 Score: ', f1_score(y_test, y_pred, average='macro'))"
      ],
      "metadata": {
        "colab": {
          "base_uri": "https://localhost:8080/"
        },
        "id": "LlK1PhgG1xey",
        "outputId": "4838a61b-0d0b-4328-a039-24f30077dbb8"
      },
      "execution_count": 94,
      "outputs": [
        {
          "output_type": "stream",
          "name": "stdout",
          "text": [
            "Accuracy:  0.9777777777777777\n",
            "Precision: 0.9722222222222222\n",
            "Recall:    0.9814814814814815\n",
            "F1 Score:  0.975983436853002\n"
          ]
        }
      ]
    },
    {
      "cell_type": "code",
      "source": [
        "from sklearn.datasets import load_iris\n",
        "dataset = load_iris()\n"
      ],
      "metadata": {
        "id": "xId4LVAF2VZm"
      },
      "execution_count": 95,
      "outputs": []
    },
    {
      "cell_type": "code",
      "source": [
        "X = dataset['data']\n",
        "y = dataset['target']\n"
      ],
      "metadata": {
        "id": "Z8ua6awo2ggM"
      },
      "execution_count": 96,
      "outputs": []
    },
    {
      "cell_type": "code",
      "source": [
        "#Apply normalization operation for numerical stability.\n",
        "from sklearn.preprocessing import StandardScaler\n",
        "standardizer = StandardScaler()\n",
        "X = standardizer.fit_transform(X)\n",
        "#Fit Logistic Regression Model to the train data.\n",
        "from sklearn.linear_model import LogisticRegression\n",
        "model = LogisticRegression()"
      ],
      "metadata": {
        "id": "JCY3e1FD24UJ"
      },
      "execution_count": 97,
      "outputs": []
    },
    {
      "cell_type": "code",
      "source": [
        "#Make predictions on the data using cross-validation.\n",
        "from sklearn.model_selection import cross_val_predict\n",
        "y_pred = cross_val_predict(model, X, y, cv=10)\n"
      ],
      "metadata": {
        "id": "P6LbkT123FKU"
      },
      "execution_count": 98,
      "outputs": []
    },
    {
      "cell_type": "code",
      "source": [
        "#Calculate the Confusion Matrix by the actual and predicted values.\n",
        "from sklearn.metrics import confusion_matrix\n",
        "conf_mat = confusion_matrix(y, y_pred)\n",
        "import seaborn as sns\n",
        "sns.heatmap(conf_mat, annot=True)\n",
        "plt.xlabel(\"Predicted Label\")\n",
        "plt.ylabel('Actual Label')\n",
        "plt.title('Confusion matrix of the model')\n",
        "plt.show()"
      ],
      "metadata": {
        "colab": {
          "base_uri": "https://localhost:8080/",
          "height": 295
        },
        "id": "qD8BgEjH3Fkm",
        "outputId": "4e0891b5-8297-497f-dd51-1f2a89860650"
      },
      "execution_count": 99,
      "outputs": [
        {
          "output_type": "display_data",
          "data": {
            "text/plain": [
              "<Figure size 432x288 with 2 Axes>"
            ],
            "image/png": "[encoded data removed]"
          },
          "metadata": {
            "needs_background": "light"
          }
        }
      ]
    }
  ]
}